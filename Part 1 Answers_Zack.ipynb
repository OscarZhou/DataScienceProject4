{
 "cells": [
  {
   "cell_type": "code",
   "execution_count": 1,
   "metadata": {
    "collapsed": true
   },
   "outputs": [],
   "source": [
    "#!/bin/python\n",
    "import numpy as np\n",
    "from sklearn.metrics import mean_squared_error"
   ]
  },
  {
   "cell_type": "code",
   "execution_count": 2,
   "metadata": {
    "collapsed": true
   },
   "outputs": [],
   "source": [
    "# User class stores the names and average rating for each user\n",
    "class User:\n",
    "    def __init__(self, name, user_id):\n",
    "        self.name = name\n",
    "        self.id = user_id\n",
    "        self.avg_r = 0.0"
   ]
  },
  {
   "cell_type": "code",
   "execution_count": 3,
   "metadata": {
    "collapsed": true
   },
   "outputs": [],
   "source": [
    "# Item class stores the name of each item\n",
    "class Item:\n",
    "    def __init__(self, name, item_id):\n",
    "        self.name = name\n",
    "        self.id = item_id"
   ]
  },
  {
   "cell_type": "code",
   "execution_count": 4,
   "metadata": {
    "collapsed": true
   },
   "outputs": [],
   "source": [
    "# Rating class is used to assign ratings\n",
    "class Rating:\n",
    "    def __init__(self, user_id, item_id, rating):\n",
    "        self.user_id = user_id\n",
    "        self.item_id = item_id\n",
    "        self.rating = rating"
   ]
  },
  {
   "cell_type": "code",
   "execution_count": 5,
   "metadata": {
    "collapsed": true
   },
   "outputs": [],
   "source": [
    "# We store users in a list. Note that user IDs start indexed at 1.\n",
    "user = []\n",
    "user.append(User(\"Ann\", 1))\n",
    "user.append(User(\"Bob\", 2))\n",
    "user.append(User(\"Carl\", 3))\n",
    "user.append(User(\"Doug\", 4))"
   ]
  },
  {
   "cell_type": "code",
   "execution_count": 6,
   "metadata": {
    "collapsed": true
   },
   "outputs": [],
   "source": [
    "# Items are also stored in a list. Note that item IDs start indexed at 1.\n",
    "item = []\n",
    "item.append(Item(\"HP1\", 1))\n",
    "item.append(Item(\"HP2\", 2))\n",
    "item.append(Item(\"HP3\", 3))\n",
    "item.append(Item(\"SW1\", 4))\n",
    "item.append(Item(\"SW2\", 5))\n",
    "item.append(Item(\"SW3\", 6))"
   ]
  },
  {
   "cell_type": "code",
   "execution_count": 9,
   "metadata": {
    "collapsed": true
   },
   "outputs": [],
   "source": [
    "rating = []\n",
    "rating.append(Rating(1, 1, 4))\n",
    "rating.append(Rating(1, 4, 1))\n",
    "rating.append(Rating(2, 1, 5))\n",
    "rating.append(Rating(2, 2, 5))\n",
    "rating.append(Rating(2, 3, 4))\n",
    "rating.append(Rating(3, 4, 4))\n",
    "rating.append(Rating(3, 5, 5))\n",
    "rating.append(Rating(4, 2, 3))\n",
    "rating.append(Rating(4, 6, 3))"
   ]
  },
  {
   "cell_type": "code",
   "execution_count": 10,
   "metadata": {
    "collapsed": true
   },
   "outputs": [],
   "source": [
    "n_users = len(user)\n",
    "n_items = len(item)\n",
    "n_ratings = len(rating)"
   ]
  },
  {
   "cell_type": "code",
   "execution_count": 11,
   "metadata": {
    "collapsed": false
   },
   "outputs": [
    {
     "data": {
      "text/plain": [
       "[4, 6, 9]"
      ]
     },
     "execution_count": 11,
     "metadata": {},
     "output_type": "execute_result"
    }
   ],
   "source": [
    "[n_users, n_items, n_ratings]"
   ]
  },
  {
   "cell_type": "code",
   "execution_count": 12,
   "metadata": {
    "collapsed": true
   },
   "outputs": [],
   "source": [
    "# The utility matrix stores the rating for each user-item pair in the matrix form.\n",
    "utility = np.zeros((n_users, n_items))\n",
    "for r in rating:\n",
    "    utility[r.user_id-1][r.item_id-1] = r.rating"
   ]
  },
  {
   "cell_type": "code",
   "execution_count": 13,
   "metadata": {
    "collapsed": false
   },
   "outputs": [
    {
     "data": {
      "text/plain": [
       "(4L, 6L)"
      ]
     },
     "execution_count": 13,
     "metadata": {},
     "output_type": "execute_result"
    }
   ],
   "source": [
    "utility.shape"
   ]
  },
  {
   "cell_type": "code",
   "execution_count": 14,
   "metadata": {
    "collapsed": false
   },
   "outputs": [
    {
     "name": "stdout",
     "output_type": "stream",
     "text": [
      "[[ 4.  0.  0.  1.  0.  0.]\n",
      " [ 5.  5.  4.  0.  0.  0.]\n",
      " [ 0.  0.  0.  4.  5.  0.]\n",
      " [ 0.  3.  0.  0.  0.  3.]]\n"
     ]
    }
   ],
   "source": [
    "print utility"
   ]
  },
  {
   "cell_type": "code",
   "execution_count": 16,
   "metadata": {
    "collapsed": false
   },
   "outputs": [
    {
     "data": {
      "text/plain": [
       "dtype('float64')"
      ]
     },
     "execution_count": 16,
     "metadata": {},
     "output_type": "execute_result"
    }
   ],
   "source": [
    "utility.dtype"
   ]
  },
  {
   "cell_type": "code",
   "execution_count": null,
   "metadata": {
    "collapsed": true
   },
   "outputs": [],
   "source": []
  }
 ],
 "metadata": {
  "anaconda-cloud": {},
  "kernelspec": {
   "display_name": "Python [Root]",
   "language": "python",
   "name": "Python [Root]"
  },
  "language_info": {
   "codemirror_mode": {
    "name": "ipython",
    "version": 2
   },
   "file_extension": ".py",
   "mimetype": "text/x-python",
   "name": "python",
   "nbconvert_exporter": "python",
   "pygments_lexer": "ipython2",
   "version": "2.7.12"
  }
 },
 "nbformat": 4,
 "nbformat_minor": 0
}
